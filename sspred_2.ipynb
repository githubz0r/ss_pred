{
 "cells": [
  {
   "cell_type": "markdown",
   "metadata": {},
   "source": [
    "We will make a simple protein secondary structure predictor for predicting one of the three classes: coil, helix and beta sheet. Similar to [psipred](http://bioinf.cs.ucl.ac.uk/psipred/), we will use a window of amino acids around a residue and feed it into a neural network, but we will only use one neural network instead of two, and we will use a window of 21, i.e. 10 amino acids to either side of the one to be predicted. \n",
    "<br>\n",
    "<br> We will use a convolutional neural network with dense layers on top, and we will evaluate the quality of the predictions with the Q3 accuracy (basically accuracy across all residues) and the segment of overlap score. The segment of overlap score takes into account how much entire segments with the same secondary structure type overlap between the reference and the prediction, as opposed to the identity of individual amino acids.\n",
    "<br>\n",
    "<br> For training, validation and testing, we will use the data that was used to train the [jpred method](http://www.compbio.dundee.ac.uk/jpred4/about_RETR_JNetv231_details.shtml) as it is easily available and fulfills criteria such as a lack of structural/sequence homology between training and test set, which would lead to a biased evaluation."
   ]
  },
  {
   "cell_type": "markdown",
   "metadata": {},
   "source": [
    "First we'll load libraries, data and define some helper functions."
   ]
  },
  {
   "cell_type": "code",
   "execution_count": 2,
   "metadata": {},
   "outputs": [],
   "source": [
    "import numpy as np\n",
    "import itertools\n",
    "import pandas as pd\n",
    "import torch\n",
    "import matplotlib.pyplot as plt"
   ]
  },
  {
   "cell_type": "code",
   "execution_count": 3,
   "metadata": {},
   "outputs": [],
   "source": [
    "train_ids = np.loadtxt('train_names', dtype='str')\n",
    "test_ids = np.loadtxt('test_names', dtype='str')"
   ]
  },
  {
   "cell_type": "code",
   "execution_count": 4,
   "metadata": {},
   "outputs": [],
   "source": [
    "training_items={}\n",
    "for i in train_ids:\n",
    "    with open('data/training/'+i+\".fasta\") as input:\n",
    "        seq = ''\n",
    "        lines = input.readlines()\n",
    "        for line in lines:\n",
    "            if line[0] != '>':\n",
    "                seq += line.strip()\n",
    "    with open('data/training/'+i+\".dssp\") as input:\n",
    "        ss = ''\n",
    "        lines = input.readlines()\n",
    "        for line in lines:\n",
    "            if line[0] != '>':\n",
    "                ss += line.strip()\n",
    "            \n",
    "    training_items[i] = {'seq':seq, 'ss':ss}\n",
    "    \n",
    "    \n",
    "test_items={}\n",
    "for i in test_ids:\n",
    "    with open('data/blind/'+i+\".fasta\") as input:\n",
    "        seq = ''\n",
    "        lines = input.readlines()\n",
    "        for line in lines:\n",
    "            if line[0] != '>':\n",
    "                seq += line.strip()\n",
    "    with open('data/blind/'+i+\".dssp\") as input:\n",
    "        ss = ''\n",
    "        lines = input.readlines()\n",
    "        for line in lines:\n",
    "            if line[0] != '>':\n",
    "                ss += line.strip()\n",
    "            \n",
    "    test_items[i] = {'seq':seq, 'ss':ss}"
   ]
  },
  {
   "cell_type": "code",
   "execution_count": 5,
   "metadata": {},
   "outputs": [],
   "source": [
    "aa_id_dict = {'A': 0, 'C': 1, 'D': 2, 'E': 3, 'F': 4, 'G': 5, 'H': 6, 'I': 7,\n",
    "              'K': 8, 'L': 9, 'M': 10, 'N': 11, 'P': 12, 'Q': 13, 'R': 14, \n",
    "              'S': 15, 'T': 16, 'V': 17, 'W': 18, 'Y': 19}\n",
    "\n",
    "pos_aa_dict = {j:i for i,j in aa_id_dict.items()}\n",
    "\n",
    "ss_id_dict = {'H':0, 'E':1, '-':2}\n",
    "\n",
    "pos_ss_dict = {j:i for i,j in ss_id_dict.items()}\n",
    "\n",
    "def aa_to_onehot(aa_str, aa_to_nr=aa_id_dict, mask=None):\n",
    "    \"\"\"\n",
    "    Onehot encode an amino acid string using a letter to number dictionary.\n",
    "    The mask (from proteinnet files) is used to remove residues missing atoms from the primary sequence.\n",
    "    \"\"\"\n",
    "    if mask!=None:\n",
    "        mask_ind = np.asarray([x=='+' for x in mask])*1\n",
    "        mask_ind = np.nonzero(mask_ind)\n",
    "        aa_str = \"\".join([aa_str[x] for x in mask_ind[0]]) # the mask indices are a list in a list\n",
    "    init_array = np.zeros( (len(aa_to_nr.keys()), len(aa_str)) )\n",
    "    for i,j in enumerate(aa_str):\n",
    "        init_array[aa_to_nr[j], i] = 1\n",
    "    return init_array\n",
    "\n",
    "def label_to_index(ss, id_dict):\n",
    "    labels = np.array([id_dict[i] for i in ss])\n",
    "    return(labels)\n",
    "\n",
    "def onehot_to_str(onehot_arr, map_dict=pos_aa_dict):\n",
    "    '''Helper function to recover aa sequence from onehot encoding\n",
    "        input must be aa*N numpy array'''\n",
    "    aas = []\n",
    "    N = onehot_arr.shape[1]\n",
    "    for i in range(N):\n",
    "        pos = np.where(onehot_arr[:, i]>0)[0]\n",
    "        aas.append(map_dict[int(pos)])\n",
    "    return \"\".join(aas)\n",
    "\n",
    "def filter_proteins(prot_id, seq, allowed_symbols):\n",
    "    allowed = True\n",
    "    for i in seq:\n",
    "        if i not in allowed_symbols:\n",
    "            allowed = False\n",
    "    return allowed\n",
    "        "
   ]
  },
  {
   "cell_type": "markdown",
   "metadata": {},
   "source": [
    "We'll filter away proteins with missing/unidentified residues."
   ]
  },
  {
   "cell_type": "code",
   "execution_count": 6,
   "metadata": {},
   "outputs": [],
   "source": [
    "train_inds_filt = np.array([filter_proteins(i, training_items[i]['seq'], aa_id_dict.keys()) for i in train_ids])\n",
    "test_inds_filt = np.array([filter_proteins(i, test_items[i]['seq'], aa_id_dict.keys()) for i in test_ids])\n",
    "\n",
    "train_ids_filt = train_ids[train_inds_filt]\n",
    "test_ids_filt = test_ids[test_inds_filt]"
   ]
  },
  {
   "cell_type": "markdown",
   "metadata": {},
   "source": [
    "Next we need to pad the sequences on the ends and split them into smaller pieces of equal size for the neural network."
   ]
  },
  {
   "cell_type": "code",
   "execution_count": 7,
   "metadata": {},
   "outputs": [],
   "source": [
    "def pad_and_split_1h(vector, k, map_dict):\n",
    "    padding = np.zeros((len(map_dict.keys()), int((k-1)/2)))\n",
    "    vector_padded = np.concatenate((padding, aa_to_onehot(vector, map_dict), padding), axis=1)\n",
    "    sub_arrays = []\n",
    "    for i in range(int((k-1)/2), len(vector)+int((k-1)/2)):\n",
    "        sub_arr = vector_padded[:, i-int((k-1)/2):i+int((k-1)/2)+1]\n",
    "        sub_arrays.append(sub_arr)\n",
    "    sub_arrays = np.array(sub_arrays)\n",
    "    return torch.tensor(sub_arrays).float()\n",
    "\n",
    "def tensorize_ss(ss, map_dict=ss_id_dict, tensorize=True):\n",
    "    if tensorize:\n",
    "        tensor = torch.tensor(label_to_index(ss, map_dict))\n",
    "    else:\n",
    "        tensor = label_to_index(ss, map_dict)\n",
    "    return tensor"
   ]
  },
  {
   "cell_type": "code",
   "execution_count": 8,
   "metadata": {},
   "outputs": [],
   "source": [
    "k_window = 21"
   ]
  },
  {
   "cell_type": "code",
   "execution_count": 9,
   "metadata": {},
   "outputs": [],
   "source": [
    "for i in train_ids_filt:\n",
    "    training_items[i]['seq_1h'] = pad_and_split_1h(training_items[i]['seq'], k_window, aa_id_dict)\n",
    "    \n",
    "for i in test_ids_filt:\n",
    "    test_items[i]['seq_1h'] = pad_and_split_1h(test_items[i]['seq'], k_window, aa_id_dict)"
   ]
  },
  {
   "cell_type": "code",
   "execution_count": 10,
   "metadata": {},
   "outputs": [],
   "source": [
    "np.random.seed(678)\n",
    "inds_perm = np.random.permutation(len(train_ids_filt))\n",
    "val_prots = train_ids_filt[inds_perm[0:int(np.floor(len(inds_perm)*0.2))]]\n",
    "train_prots = train_ids_filt[inds_perm[int(np.floor(len(inds_perm)*0.2)):]]"
   ]
  },
  {
   "cell_type": "code",
   "execution_count": 11,
   "metadata": {},
   "outputs": [],
   "source": [
    "train_seq_tensor = torch.cat([training_items[i]['seq_1h'] for i in train_prots])\n",
    "train_ss_tensor = torch.cat([tensorize_ss(training_items[i]['ss']) for i in train_prots])\n",
    "\n",
    "val_seq_tensor = torch.cat([training_items[i]['seq_1h'] for i in val_prots])\n",
    "val_ss_tensor = torch.cat([tensorize_ss(training_items[i]['ss']) for i in val_prots])\n",
    "\n",
    "test_seq_tensor = torch.cat([test_items[i]['seq_1h'] for i in test_ids_filt])\n",
    "test_ss_tensor = torch.cat([tensorize_ss(test_items[i]['ss']) for i in test_ids_filt])"
   ]
  },
  {
   "cell_type": "code",
   "execution_count": 12,
   "metadata": {},
   "outputs": [
    {
     "name": "stdout",
     "output_type": "stream",
     "text": [
      "torch.Size([176746, 20, 21])\n",
      "torch.Size([41033, 20, 21])\n",
      "torch.Size([22734, 20, 21])\n"
     ]
    }
   ],
   "source": [
    "print(train_seq_tensor.shape)\n",
    "print(val_seq_tensor.shape)\n",
    "print(test_seq_tensor.shape)"
   ]
  },
  {
   "cell_type": "code",
   "execution_count": 13,
   "metadata": {},
   "outputs": [],
   "source": [
    "from torch.utils.data import Dataset\n",
    "class proteindataset(torch.utils.data.Dataset):\n",
    "    def __init__(self, seqs, ss):\n",
    "        self.sequences = seqs\n",
    "        self.ss = ss\n",
    "\n",
    "    def __len__(self):\n",
    "        return len(self.ss)\n",
    "\n",
    "    def __getitem__(self, idx):\n",
    "        return [self.sequences[idx,:, :], self.ss[idx]]\n"
   ]
  },
  {
   "cell_type": "code",
   "execution_count": 14,
   "metadata": {},
   "outputs": [],
   "source": [
    "train_dataset = proteindataset(train_seq_tensor, train_ss_tensor)\n",
    "val_dataset = proteindataset(val_seq_tensor, val_ss_tensor)\n",
    "test_dataset = proteindataset(test_seq_tensor, test_ss_tensor)"
   ]
  },
  {
   "cell_type": "code",
   "execution_count": 15,
   "metadata": {},
   "outputs": [],
   "source": [
    "trainloader = torch.utils.data.DataLoader(train_dataset, batch_size=100,\n",
    "                                          shuffle=True, num_workers=2)\n",
    "valloader = torch.utils.data.DataLoader(val_dataset, batch_size=1000,\n",
    "                                         shuffle=False, num_workers=4)\n",
    "testloader = torch.utils.data.DataLoader(test_dataset, batch_size=100,\n",
    "                                         shuffle=False, num_workers=4)\n"
   ]
  },
  {
   "cell_type": "code",
   "execution_count": 16,
   "metadata": {},
   "outputs": [],
   "source": [
    "import torch.nn as nn\n",
    "import torch.nn.functional as F\n",
    "import torch.optim as optim\n",
    "\n",
    "\n",
    "class Net(nn.Module):\n",
    "    def __init__(self):\n",
    "        super(Net, self).__init__()\n",
    "        self.pool = nn.MaxPool1d(2)\n",
    "        \n",
    "        self.conv0 = nn.Conv1d(20, 32, kernel_size=3)\n",
    "        self.conv0_bn = torch.nn.BatchNorm1d(32)\n",
    "        self.conv1 = nn.Conv1d(32, 64, kernel_size=2) # down\n",
    "        self.conv1_bn = torch.nn.BatchNorm1d(64)\n",
    "        self.conv2 = nn.Conv1d(64, 128, kernel_size=3) # down \n",
    "        self.conv2_bn = torch.nn.BatchNorm1d(128)\n",
    "        self.fc1 = nn.Linear(128, 8)\n",
    "        self.fc2 = nn.Linear(8, 3)\n",
    "\n",
    "    def forward(self, x):\n",
    "        conv0_out = self.conv0_bn(self.pool(F.relu(self.conv0(x))))\n",
    "        conv1_out = self.conv1_bn(self.pool(F.relu(self.conv1(conv0_out))))\n",
    "        conv2_out = self.conv2_bn(self.pool(F.relu(self.conv2(conv1_out))))\n",
    "        conv2_out = conv2_out.view(-1, 128*1)\n",
    "        fc1_out = F.relu(self.fc1(conv2_out))\n",
    "        fc2_out = F.relu(self.fc2(fc1_out))\n",
    "\n",
    "        return fc2_out\n"
   ]
  },
  {
   "cell_type": "code",
   "execution_count": 17,
   "metadata": {},
   "outputs": [
    {
     "name": "stdout",
     "output_type": "stream",
     "text": [
      "epoch: 0, iteration: 588] training loss: 1.0168877528357385, validation_loss: 0.9291604061921436\n",
      "epoch: 0, iteration: 1177] training loss: 0.892276327051412, validation_loss: 0.8604613131000881\n",
      "new best validation loss, saving..\n",
      "epoch: 0, iteration: 1766] training loss: 0.8447460362178563, validation_loss: 0.826155689500627\n",
      "new best validation loss, saving..\n",
      "epoch: 1, iteration: 588] training loss: 0.8117086127375099, validation_loss: 0.8025993101653598\n",
      "new best validation loss, saving..\n",
      "epoch: 1, iteration: 1177] training loss: 0.7843401534245658, validation_loss: 0.7888404528299968\n",
      "new best validation loss, saving..\n",
      "epoch: 1, iteration: 1766] training loss: 0.7732287105963469, validation_loss: 0.7764095181510562\n",
      "new best validation loss, saving..\n",
      "epoch: 2, iteration: 588] training loss: 0.7531477830203563, validation_loss: 0.7683014004003436\n",
      "new best validation loss, saving..\n",
      "epoch: 2, iteration: 1177] training loss: 0.7469049677480462, validation_loss: 0.761275040251868\n",
      "new best validation loss, saving..\n",
      "epoch: 2, iteration: 1766] training loss: 0.7433111370115815, validation_loss: 0.757630339690617\n",
      "new best validation loss, saving..\n",
      "epoch: 3, iteration: 588] training loss: 0.7247657346806421, validation_loss: 0.7566155124278298\n",
      "new best validation loss, saving..\n",
      "epoch: 3, iteration: 1177] training loss: 0.7274889210286488, validation_loss: 0.7550452663784933\n",
      "new best validation loss, saving..\n",
      "epoch: 3, iteration: 1766] training loss: 0.72779361086507, validation_loss: 0.7527667922633036\n",
      "new best validation loss, saving..\n",
      "epoch: 4, iteration: 588] training loss: 0.713973983135612, validation_loss: 0.7498710893449329\n",
      "new best validation loss, saving..\n",
      "epoch: 4, iteration: 1177] training loss: 0.7124047388649958, validation_loss: 0.7477676499457585\n",
      "new best validation loss, saving..\n",
      "epoch: 4, iteration: 1766] training loss: 0.7129166084760721, validation_loss: 0.7472611310936157\n",
      "new best validation loss, saving..\n",
      "epoch: 5, iteration: 588] training loss: 0.7008231760386903, validation_loss: 0.7504889411585672\n",
      "epoch: 5, iteration: 1177] training loss: 0.7035987233467944, validation_loss: 0.7468235066958836\n",
      "new best validation loss, saving..\n",
      "epoch: 5, iteration: 1766] training loss: 0.7010112104270171, validation_loss: 0.7441599269707997\n",
      "new best validation loss, saving..\n",
      "epoch: 6, iteration: 588] training loss: 0.6900480121424728, validation_loss: 0.7478803878738765\n",
      "epoch: 6, iteration: 1177] training loss: 0.6929523211181265, validation_loss: 0.7472900847593942\n",
      "epoch: 6, iteration: 1766] training loss: 0.6938651469243605, validation_loss: 0.7466080586115517\n",
      "epoch: 7, iteration: 588] training loss: 0.6841559597308445, validation_loss: 0.7498516695840022\n",
      "epoch: 7, iteration: 1177] training loss: 0.682591842927026, validation_loss: 0.7460034234183176\n",
      "Finished Training\n"
     ]
    }
   ],
   "source": [
    "net = Net()\n",
    "\n",
    "criterion = nn.CrossEntropyLoss()\n",
    "optimizer = optim.SGD(net.parameters(), lr=0.001, momentum=0.9)\n",
    "\n",
    "\n",
    "prints_per_epoch = 3\n",
    "\n",
    "verbose_k = np.floor(len(trainloader)/prints_per_epoch)\n",
    "\n",
    "\n",
    "train_losses = []\n",
    "val_losses = []\n",
    "iterations = []\n",
    "best_loss = None\n",
    "patience_val = 5\n",
    "patience_counter = patience_val\n",
    "\n",
    "for epoch in range(10):\n",
    "\n",
    "    running_loss = 0.0\n",
    "    for i, data in enumerate(trainloader):\n",
    "        sequence, ss = data\n",
    "        # zero the parameter gradients\n",
    "        optimizer.zero_grad()\n",
    "\n",
    "        # forward + backward + optimize\n",
    "        predicted_angles = net(sequence)\n",
    "\n",
    "        loss = criterion(predicted_angles, ss)\n",
    "        loss.backward()\n",
    "        optimizer.step()\n",
    "        \n",
    "        # adding to running loss, we will output this at every verbose_k\n",
    "        running_loss += loss.item()\n",
    "        \n",
    "        if (i+1) % verbose_k == 0:\n",
    "            if patience_counter < 1:\n",
    "                break\n",
    "            train_losses.append(running_loss/verbose_k)\n",
    "            true_iter = len(trainloader)*epoch + i\n",
    "            iterations.append(true_iter)\n",
    "            net.eval()\n",
    "            validation_loss = 0\n",
    "            for j in valloader:\n",
    "                pred_k = net(j[0])\n",
    "                loss_k = criterion(pred_k, j[1]).item()\n",
    "                validation_loss += loss_k/len(valloader)\n",
    "            val_losses.append(validation_loss)\n",
    "            net.train()\n",
    "            print('epoch: {}, iteration: {}] training loss: {}, validation_loss: {}'.format(\n",
    "                epoch, i, running_loss/verbose_k, validation_loss))\n",
    "\n",
    "            if best_loss == None:\n",
    "                best_loss = validation_loss\n",
    "            else:\n",
    "                if validation_loss <= min(val_losses):\n",
    "                    patience_counter = patience_val\n",
    "                    print('new best validation loss, saving..')\n",
    "                    best_loss = validation_loss\n",
    "                    torch.save(net.state_dict(), 'cnn_params.pt')\n",
    "                else:\n",
    "                    patience_counter -= 1\n",
    "            \n",
    "\n",
    "            running_loss = 0.0\n",
    "            \n",
    "\n",
    "print('Finished Training')"
   ]
  },
  {
   "cell_type": "code",
   "execution_count": 18,
   "metadata": {},
   "outputs": [],
   "source": [
    "net.load_state_dict(torch.load('/Users/Deathvoodoo/big_folders_docs/ss_pred/cnn_params.pt'))\n",
    "\n",
    "net.eval()\n",
    "\n",
    "validation_preds = np.concatenate([np.apply_along_axis(np.argmax, 1, net(i[0]).detach().numpy()) for i in valloader])\n",
    "validation_reals = [tensorize_ss(training_items[i]['ss'], ss_id_dict, tensorize=False) for i in val_prots]"
   ]
  },
  {
   "cell_type": "code",
   "execution_count": 19,
   "metadata": {},
   "outputs": [
    {
     "data": {
      "image/png": "[encoded data removed]",
      "text/plain": [
       "<Figure size 432x288 with 1 Axes>"
      ]
     },
     "metadata": {
      "needs_background": "light"
     },
     "output_type": "display_data"
    }
   ],
   "source": [
    "plt.scatter(iterations, train_losses, label='train loss')\n",
    "plt.scatter(iterations, val_losses, label='validation loss')\n",
    "plt.legend()\n",
    "plt.show()"
   ]
  },
  {
   "cell_type": "markdown",
   "metadata": {},
   "source": [
    "We need to reconstruct the outputs into vectors corresponding to the input."
   ]
  },
  {
   "cell_type": "code",
   "execution_count": 20,
   "metadata": {},
   "outputs": [],
   "source": [
    "def reconstruct_predictions(preds, real_vectors):\n",
    "    preds_rec = []\n",
    "    cur_idx = 0\n",
    "    for i in real_vectors:\n",
    "        assembled = preds[cur_idx:cur_idx+len(i)]\n",
    "        preds_rec.append(assembled)\n",
    "        cur_idx += len(i)\n",
    "    return preds_rec"
   ]
  },
  {
   "cell_type": "code",
   "execution_count": 21,
   "metadata": {},
   "outputs": [],
   "source": [
    "validation_preds_rec = reconstruct_predictions(validation_preds, validation_reals)"
   ]
  },
  {
   "cell_type": "markdown",
   "metadata": {},
   "source": [
    "Now we can evaluate the results with Q3 accuracy and segment of overlap. We'll start with the validation set."
   ]
  },
  {
   "cell_type": "code",
   "execution_count": 22,
   "metadata": {},
   "outputs": [],
   "source": [
    "def q3_acc(real, pred):\n",
    "    if real.shape[0] == 1:\n",
    "        real = np.squeeze(real, 0)\n",
    "    if pred.shape[0] == 1:\n",
    "        pred = np.squeeze(pred, 0)   \n",
    "    return np.sum(real==pred)/real.shape[0]\n",
    "\n",
    "\n",
    "def segment_of_overlap(ss_ref_str, ss_pred_str):\n",
    "    ss_ref = get_segments(ss_ref_str)\n",
    "    ss_pred = get_segments(ss_pred_str)\n",
    "    val_total = 0\n",
    "    N_total = 0\n",
    "    for k in ss_ref.keys():\n",
    "        subsum_k = 0\n",
    "        N_k = 0\n",
    "        for i in ss_ref[k]:\n",
    "            l_s1 = len(i[1])\n",
    "            N_k += l_s1\n",
    "            for j in ss_pred[k]:\n",
    "                l_s2 = len(j[1])\n",
    "                minov = len(np.intersect1d(i[1], j[1]))\n",
    "                if minov > 0:\n",
    "                    maxov = len(np.union1d(i[1], j[1]))\n",
    "                    delta = np.min([maxov-minov, minov, np.floor(l_s1/2), np.floor(l_s2/2)])\n",
    "                    value = l_s1*(minov+delta)/maxov\n",
    "                    subsum_k += value\n",
    "        N_total += N_k\n",
    "        val_total += subsum_k\n",
    "    sov = val_total/N_total\n",
    "    return sov\n",
    "\n",
    "def get_segments(ss_str):\n",
    "    ss_strs = [\"\".join(grp) for val, grp in itertools.groupby(ss_str)]\n",
    "    idx_lens = []\n",
    "    idx_start = 0\n",
    "    for i in ss_strs:\n",
    "        idx_lens.append(np.arange(idx_start, idx_start+len(i)))\n",
    "        idx_start += len(i)\n",
    "    segment_types = {'E':[], 'H':[], '-':[]}\n",
    "    for i in range(len(ss_strs)):\n",
    "        segment_types[ss_strs[i][0]].append([ss_strs[i], idx_lens[i]])\n",
    "    return segment_types\n",
    "\n",
    "def ints_to_symbols1d(ss_arr, map_dict=pos_ss_dict):\n",
    "    if len(ss_arr.shape) > 1:\n",
    "        for i,j in enumerate(ss_arr.shape):\n",
    "            if j == 1:\n",
    "                ss_arr = np.squeeze(ss_arr, i)\n",
    "    return \"\".join([map_dict[i] for i in ss_arr])"
   ]
  },
  {
   "cell_type": "code",
   "execution_count": 23,
   "metadata": {},
   "outputs": [
    {
     "name": "stdout",
     "output_type": "stream",
     "text": [
      "CNN validation Q3 accuracy:  0.6753099947962968\n"
     ]
    }
   ],
   "source": [
    "val_accuracies = [q3_acc(i,j) for i,j in zip(validation_preds_rec, validation_reals)]\n",
    "print('CNN validation Q3 accuracy: ', np.mean(val_accuracies))"
   ]
  },
  {
   "cell_type": "markdown",
   "metadata": {},
   "source": [
    "Since we're not really going to search for any hyperparameters, we can just evaluate the test set and also compare with psipred."
   ]
  },
  {
   "cell_type": "code",
   "execution_count": 24,
   "metadata": {},
   "outputs": [],
   "source": [
    "test_preds = np.concatenate([np.apply_along_axis(np.argmax, 1, net(i[0]).detach().numpy()) for i in testloader])\n",
    "test_reals = [tensorize_ss(test_items[i]['ss'], ss_id_dict, tensorize=False) for i in test_ids_filt]\n",
    "test_preds_rec = reconstruct_predictions(test_preds, test_reals)"
   ]
  },
  {
   "cell_type": "code",
   "execution_count": 25,
   "metadata": {},
   "outputs": [],
   "source": [
    "test_accuracies_cnn =[q3_acc(i,j) for i,j in zip(test_preds_rec, test_reals)]"
   ]
  },
  {
   "cell_type": "code",
   "execution_count": 26,
   "metadata": {},
   "outputs": [],
   "source": [
    "def parse_psipred(prot_id, letter_to_number=ss_id_dict):\n",
    "    ss = ''\n",
    "    with open('/Users/Deathvoodoo/big_folders_docs/ss_pred/ss_predictions_psipred/{}.horiz'.format(prot_id)) as input:\n",
    "        lines = input.readlines()\n",
    "        for line in lines:\n",
    "            line = line.strip()\n",
    "            line = line.split()\n",
    "            if len(line)>0:\n",
    "                if line[0] == 'Pred:' and len(line)>1:\n",
    "                    ss += line[1]\n",
    "\n",
    "    ss = ss.replace('C', '-') # psipred predictions use C instead of - for non sheet/helix\n",
    "    ss = np.array([letter_to_number[i] for i in ss])\n",
    "    return ss\n",
    "    "
   ]
  },
  {
   "cell_type": "code",
   "execution_count": 27,
   "metadata": {},
   "outputs": [],
   "source": [
    "psipred_preds = [parse_psipred(i) for i in test_ids_filt]"
   ]
  },
  {
   "cell_type": "code",
   "execution_count": 28,
   "metadata": {},
   "outputs": [],
   "source": [
    "psipred_acc = [q3_acc(i,j) for i,j in zip(psipred_preds, test_reals)]"
   ]
  },
  {
   "cell_type": "code",
   "execution_count": 29,
   "metadata": {},
   "outputs": [
    {
     "name": "stdout",
     "output_type": "stream",
     "text": [
      "CNN Q3 accuracy:  0.6730800099449464\n",
      "psipred Q3 accuracy:  0.7255188449781512\n"
     ]
    }
   ],
   "source": [
    "print('CNN Q3 accuracy on test set: ',np.mean(test_accuracies_cnn))\n",
    "print('psipred Q3 accuracy on test set: ',np.mean(psipred_acc))"
   ]
  },
  {
   "cell_type": "markdown",
   "metadata": {},
   "source": [
    "Let's check segment of overlap score."
   ]
  },
  {
   "cell_type": "code",
   "execution_count": 30,
   "metadata": {},
   "outputs": [],
   "source": [
    "test_preds_str_cnn = [ints_to_symbols1d(i) for i in test_preds_rec]\n",
    "test_preds_str_psipred = [ints_to_symbols1d(i) for i in psipred_preds]\n",
    "test_reals_str = [ints_to_symbols1d(i) for i in test_reals] # same as grabbing strings directly from the dict"
   ]
  },
  {
   "cell_type": "code",
   "execution_count": 31,
   "metadata": {},
   "outputs": [
    {
     "name": "stdout",
     "output_type": "stream",
     "text": [
      "CNN SOV:  0.7172306616025629\n",
      "psipred SOV:  0.7850154998573716\n"
     ]
    }
   ],
   "source": [
    "test_sovs_cnn = [segment_of_overlap(i, j) for i,j in zip(test_preds_str_cnn, test_reals_str)]\n",
    "test_sovs_psipred = [segment_of_overlap(i, j) for i,j in zip(test_preds_str_psipred, test_reals_str)]\n",
    "\n",
    "print('CNN SOV on test set: ', np.mean(test_sovs_cnn))\n",
    "print('psipred SOV on test set: ', np.mean(test_sovs_psipred))\n"
   ]
  }
 ],
 "metadata": {
  "kernelspec": {
   "display_name": "Python 3.7.4 64-bit",
   "language": "python",
   "name": "python37464bitdff059f72f8b417fb86b0d43a0194990"
  },
  "language_info": {
   "codemirror_mode": {
    "name": "ipython",
    "version": 3
   },
   "file_extension": ".py",
   "mimetype": "text/x-python",
   "name": "python",
   "nbconvert_exporter": "python",
   "pygments_lexer": "ipython3",
   "version": "3.7.4"
  }
 },
 "nbformat": 4,
 "nbformat_minor": 2
}
